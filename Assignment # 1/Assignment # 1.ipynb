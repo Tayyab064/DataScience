{
 "cells": [
  {
   "cell_type": "code",
   "execution_count": 1,
   "id": "f4b64a3a",
   "metadata": {},
   "outputs": [
    {
     "name": "stdout",
     "output_type": "stream",
     "text": [
      "Twinkle, twinkle, little star,\n",
      "    How I wonder what you are!\n",
      "        Up above the world so high,\n",
      "        Like a diamond in the sky.\n",
      "Twinkle, twinkle, little star,\n",
      "    How I wonder what you are\n"
     ]
    }
   ],
   "source": [
    "poem = \"\"\"Twinkle, twinkle, little star,\n",
    "    How I wonder what you are!\n",
    "        Up above the world so high,\n",
    "        Like a diamond in the sky.\n",
    "Twinkle, twinkle, little star,\n",
    "    How I wonder what you are\"\"\"\n",
    "print(poem)"
   ]
  },
  {
   "cell_type": "code",
   "execution_count": 2,
   "id": "ddd6c09a",
   "metadata": {},
   "outputs": [
    {
     "name": "stdout",
     "output_type": "stream",
     "text": [
      "Python version:  3.9.7\n"
     ]
    }
   ],
   "source": [
    "import platform\n",
    "\n",
    "print(\"Python version: \" , platform.python_version())"
   ]
  },
  {
   "cell_type": "code",
   "execution_count": 3,
   "id": "868012ab",
   "metadata": {},
   "outputs": [
    {
     "name": "stdout",
     "output_type": "stream",
     "text": [
      "Current Date & Time:  31/12/2021 21:24:28\n"
     ]
    }
   ],
   "source": [
    "import datetime\n",
    "\n",
    "current_time = datetime.datetime.now()\n",
    "time_str = current_time.strftime(\"%d/%m/%Y %H:%M:%S\")\n",
    "\n",
    "print(\"Current Date & Time: \" , time_str)"
   ]
  },
  {
   "cell_type": "code",
   "execution_count": 4,
   "id": "79c2e958",
   "metadata": {},
   "outputs": [
    {
     "name": "stdout",
     "output_type": "stream",
     "text": [
      "Enter radius of a circle: 5\n",
      "Area of circle: 78.54\n"
     ]
    }
   ],
   "source": [
    "import math\n",
    "\n",
    "radius = float(input(\"Enter radius of a circle: \"))\n",
    "\n",
    "PI = math.pi\n",
    "area = PI * radius * radius\n",
    "\n",
    "print(\"Area of circle: %.2f\"  %area)"
   ]
  },
  {
   "cell_type": "code",
   "execution_count": 5,
   "id": "cca695c0",
   "metadata": {},
   "outputs": [
    {
     "name": "stdout",
     "output_type": "stream",
     "text": [
      "Enter First Name: Muhammad\n",
      "Enter Last Name: Tayyab\n",
      "Full Name:  Muhammad Tayyab\n",
      "Full Name in reverse order:  bayyaT dammahuM\n"
     ]
    }
   ],
   "source": [
    "first_name = input(\"Enter First Name: \")\n",
    "last_name = input(\"Enter Last Name: \")\n",
    "full_name = first_name + \" \" + last_name\n",
    "\n",
    "print(\"Full Name: \", full_name)\n",
    "print(\"Full Name in reverse order: \", full_name [::-1])"
   ]
  },
  {
   "cell_type": "code",
   "execution_count": 6,
   "id": "b01c814c",
   "metadata": {},
   "outputs": [
    {
     "name": "stdout",
     "output_type": "stream",
     "text": [
      "Enter first number: 7\n",
      "Enter another number: 8\n",
      "Sum of two inputs are  15\n"
     ]
    }
   ],
   "source": [
    "f_input = int(input(\"Enter first number: \"))\n",
    "s_input = int(input(\"Enter another number: \"))\n",
    "\n",
    "total = f_input + s_input\n",
    "\n",
    "print(\"Sum of two inputs are \" , total)"
   ]
  },
  {
   "cell_type": "code",
   "execution_count": null,
   "id": "83d8784d",
   "metadata": {},
   "outputs": [],
   "source": []
  }
 ],
 "metadata": {
  "kernelspec": {
   "display_name": "Python 3 (ipykernel)",
   "language": "python",
   "name": "python3"
  },
  "language_info": {
   "codemirror_mode": {
    "name": "ipython",
    "version": 3
   },
   "file_extension": ".py",
   "mimetype": "text/x-python",
   "name": "python",
   "nbconvert_exporter": "python",
   "pygments_lexer": "ipython3",
   "version": "3.9.7"
  }
 },
 "nbformat": 4,
 "nbformat_minor": 5
}
